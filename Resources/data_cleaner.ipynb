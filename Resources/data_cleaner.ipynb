{
 "cells": [
  {
   "cell_type": "code",
   "execution_count": 1,
   "metadata": {},
   "outputs": [],
   "source": [
    "# Import dependencies\n",
    "import pandas as pd\n",
    "import glob\n"
   ]
  },
  {
   "cell_type": "code",
   "execution_count": 2,
   "metadata": {},
   "outputs": [
    {
     "data": {
      "text/plain": [
       "['202107-citibike-tripdata.csv',\n",
       " '202207-citbike-tripdata.csv',\n",
       " '202307-citibike-tripdata.csv']"
      ]
     },
     "execution_count": 2,
     "metadata": {},
     "output_type": "execute_result"
    }
   ],
   "source": [
    "# Create an empty list for the dataframes and create path\n",
    "dfs = []\n",
    "\n",
    "# This makes an array of paths in this directory all ending in .csv\n",
    "csv_files = glob.glob('*.csv')\n",
    "csv_files"
   ]
  },
  {
   "cell_type": "code",
   "execution_count": 3,
   "metadata": {},
   "outputs": [
    {
     "name": "stdout",
     "output_type": "stream",
     "text": [
      "Currently Extracting from 202107-citibike-tripdata.csv...\n",
      "Done extracting 1 file/s\n",
      "Currently Extracting from 202207-citbike-tripdata.csv...\n",
      "Done extracting 2 file/s\n",
      "Currently Extracting from 202307-citibike-tripdata.csv...\n",
      "Done extracting 3 file/s\n"
     ]
    }
   ],
   "source": [
    "# Read CSV files and store in list\n",
    "count = 0\n",
    "for file in csv_files:\n",
    "    print(f'Currently Extracting from {file}...')\n",
    "    df = pd.read_csv(file, dtype={'ride_id':str, 'rideable_type':str, 'started_at':str, 'ended_at':str,\n",
    "        'start_station_name':str, 'start_station_id':str, 'end_station_name':str,\n",
    "        'end_station_id':str, 'start_lat':float, 'start_lng':float, 'end_lat':float, 'end_lng':float,\n",
    "        'member_casual':str})\n",
    "    \n",
    "    # Remove rows with null data\n",
    "    clean_df = df.dropna()\n",
    "    \n",
    "    # Append dataframe\n",
    "    count += 1\n",
    "    print(f'Done extracting {count} file/s')\n",
    "    dfs.append(clean_df)"
   ]
  },
  {
   "cell_type": "code",
   "execution_count": 4,
   "metadata": {},
   "outputs": [],
   "source": [
    "# Concatenate dataframes\n",
    "combined_df = pd.concat(dfs, ignore_index=True)"
   ]
  },
  {
   "cell_type": "code",
   "execution_count": 5,
   "metadata": {},
   "outputs": [
    {
     "data": {
      "text/html": [
       "<div>\n",
       "<style scoped>\n",
       "    .dataframe tbody tr th:only-of-type {\n",
       "        vertical-align: middle;\n",
       "    }\n",
       "\n",
       "    .dataframe tbody tr th {\n",
       "        vertical-align: top;\n",
       "    }\n",
       "\n",
       "    .dataframe thead th {\n",
       "        text-align: right;\n",
       "    }\n",
       "</style>\n",
       "<table border=\"1\" class=\"dataframe\">\n",
       "  <thead>\n",
       "    <tr style=\"text-align: right;\">\n",
       "      <th></th>\n",
       "      <th>ride_id</th>\n",
       "      <th>rideable_type</th>\n",
       "      <th>started_at</th>\n",
       "      <th>ended_at</th>\n",
       "      <th>start_station_name</th>\n",
       "      <th>end_station_name</th>\n",
       "      <th>start_lat</th>\n",
       "      <th>start_lng</th>\n",
       "      <th>end_lat</th>\n",
       "      <th>end_lng</th>\n",
       "      <th>member_casual</th>\n",
       "    </tr>\n",
       "  </thead>\n",
       "  <tbody>\n",
       "    <tr>\n",
       "      <th>0</th>\n",
       "      <td>A14B340FDE7576EA</td>\n",
       "      <td>electric_bike</td>\n",
       "      <td>2021-07-02 16:57:23</td>\n",
       "      <td>2021-07-02 17:09:47</td>\n",
       "      <td>W 90 St &amp; Amsterdam Ave</td>\n",
       "      <td>E 88 St &amp; 1 Ave</td>\n",
       "      <td>40.790179</td>\n",
       "      <td>-73.972889</td>\n",
       "      <td>40.778301</td>\n",
       "      <td>-73.948813</td>\n",
       "      <td>casual</td>\n",
       "    </tr>\n",
       "    <tr>\n",
       "      <th>1</th>\n",
       "      <td>1726632C7F033C36</td>\n",
       "      <td>electric_bike</td>\n",
       "      <td>2021-07-10 07:40:55</td>\n",
       "      <td>2021-07-10 07:58:10</td>\n",
       "      <td>W 31 St &amp; 7 Ave</td>\n",
       "      <td>Allen St &amp; Rivington St</td>\n",
       "      <td>40.749156</td>\n",
       "      <td>-73.991600</td>\n",
       "      <td>40.720196</td>\n",
       "      <td>-73.989978</td>\n",
       "      <td>casual</td>\n",
       "    </tr>\n",
       "    <tr>\n",
       "      <th>2</th>\n",
       "      <td>3B287B65EE038E8B</td>\n",
       "      <td>electric_bike</td>\n",
       "      <td>2021-07-09 13:25:58</td>\n",
       "      <td>2021-07-09 13:30:13</td>\n",
       "      <td>W 169 St &amp; Fort Washington Ave</td>\n",
       "      <td>Wadsworth Ave &amp; W 175 St</td>\n",
       "      <td>40.842842</td>\n",
       "      <td>-73.942125</td>\n",
       "      <td>40.846052</td>\n",
       "      <td>-73.937648</td>\n",
       "      <td>member</td>\n",
       "    </tr>\n",
       "    <tr>\n",
       "      <th>3</th>\n",
       "      <td>DC9F7508954A9134</td>\n",
       "      <td>classic_bike</td>\n",
       "      <td>2021-07-09 12:45:36</td>\n",
       "      <td>2021-07-09 12:59:54</td>\n",
       "      <td>Leonard St &amp; Church St</td>\n",
       "      <td>W 15 St &amp; 6 Ave</td>\n",
       "      <td>40.717571</td>\n",
       "      <td>-74.005549</td>\n",
       "      <td>40.738046</td>\n",
       "      <td>-73.996430</td>\n",
       "      <td>member</td>\n",
       "    </tr>\n",
       "    <tr>\n",
       "      <th>4</th>\n",
       "      <td>B8B799986A18C285</td>\n",
       "      <td>classic_bike</td>\n",
       "      <td>2021-07-29 19:28:11</td>\n",
       "      <td>2021-07-29 19:52:09</td>\n",
       "      <td>Market St &amp; Cherry St</td>\n",
       "      <td>FDR Drive &amp; E 35 St</td>\n",
       "      <td>40.710762</td>\n",
       "      <td>-73.994004</td>\n",
       "      <td>40.744219</td>\n",
       "      <td>-73.971212</td>\n",
       "      <td>casual</td>\n",
       "    </tr>\n",
       "  </tbody>\n",
       "</table>\n",
       "</div>"
      ],
      "text/plain": [
       "            ride_id  rideable_type           started_at             ended_at  \\\n",
       "0  A14B340FDE7576EA  electric_bike  2021-07-02 16:57:23  2021-07-02 17:09:47   \n",
       "1  1726632C7F033C36  electric_bike  2021-07-10 07:40:55  2021-07-10 07:58:10   \n",
       "2  3B287B65EE038E8B  electric_bike  2021-07-09 13:25:58  2021-07-09 13:30:13   \n",
       "3  DC9F7508954A9134   classic_bike  2021-07-09 12:45:36  2021-07-09 12:59:54   \n",
       "4  B8B799986A18C285   classic_bike  2021-07-29 19:28:11  2021-07-29 19:52:09   \n",
       "\n",
       "               start_station_name          end_station_name  start_lat  \\\n",
       "0         W 90 St & Amsterdam Ave           E 88 St & 1 Ave  40.790179   \n",
       "1                 W 31 St & 7 Ave   Allen St & Rivington St  40.749156   \n",
       "2  W 169 St & Fort Washington Ave  Wadsworth Ave & W 175 St  40.842842   \n",
       "3          Leonard St & Church St           W 15 St & 6 Ave  40.717571   \n",
       "4           Market St & Cherry St       FDR Drive & E 35 St  40.710762   \n",
       "\n",
       "   start_lng    end_lat    end_lng member_casual  \n",
       "0 -73.972889  40.778301 -73.948813        casual  \n",
       "1 -73.991600  40.720196 -73.989978        casual  \n",
       "2 -73.942125  40.846052 -73.937648        member  \n",
       "3 -74.005549  40.738046 -73.996430        member  \n",
       "4 -73.994004  40.744219 -73.971212        casual  "
      ]
     },
     "execution_count": 5,
     "metadata": {},
     "output_type": "execute_result"
    }
   ],
   "source": [
    "# Select only colummns needed\n",
    "combined_df = combined_df[['ride_id','rideable_type','started_at','ended_at','start_station_name','end_station_name','start_lat','start_lng','end_lat','end_lng','member_casual']]\n",
    "combined_df.head()"
   ]
  },
  {
   "cell_type": "code",
   "execution_count": 6,
   "metadata": {},
   "outputs": [],
   "source": [
    "# Make addressess have similar coordinates by averaging them\n",
    "grouped = combined_df.groupby('start_station_name')['start_lng'].mean().reset_index()\n",
    "combined_df = combined_df.merge(grouped, on='start_station_name', how='left', suffixes=('', '_avg'))\n",
    "combined_df['start_lng'] = combined_df['start_lng_avg']\n",
    "combined_df.drop(columns=['start_lng_avg'], inplace=True)\n",
    "\n",
    "grouped = combined_df.groupby('start_station_name')['start_lat'].mean().reset_index()\n",
    "combined_df = combined_df.merge(grouped, on='start_station_name', how='left', suffixes=('', '_avg'))\n",
    "combined_df['start_lat'] = combined_df['start_lat_avg']\n",
    "combined_df.drop(columns=['start_lat_avg'], inplace=True)\n",
    "\n",
    "grouped = combined_df.groupby('end_station_name')['end_lng'].mean().reset_index()\n",
    "combined_df = combined_df.merge(grouped, on='end_station_name', how='left', suffixes=('', '_avg'))\n",
    "combined_df['end_lng'] = combined_df['end_lng_avg']\n",
    "combined_df.drop(columns=['end_lng_avg'], inplace=True)\n",
    "\n",
    "grouped = combined_df.groupby('end_station_name')['end_lat'].mean().reset_index()\n",
    "combined_df = combined_df.merge(grouped, on='end_station_name', how='left', suffixes=('', '_avg'))\n",
    "combined_df['end_lat'] = combined_df['end_lat_avg']\n",
    "combined_df.drop(columns=['end_lat_avg'], inplace=True)\n"
   ]
  },
  {
   "cell_type": "code",
   "execution_count": null,
   "metadata": {},
   "outputs": [],
   "source": [
    "# Round Latitude and Longitude to 2 decimal places\n",
    "# combined_df['start_lat'] = combined_df['start_lat'].round(2)\n",
    "# combined_df['start_lng'] = combined_df['start_lng'].round(2)\n",
    "# combined_df['end_lat'] = combined_df['end_lat'].round(2)\n",
    "# combined_df['end_lng'] = combined_df['end_lng'].round(2)"
   ]
  },
  {
   "cell_type": "code",
   "execution_count": null,
   "metadata": {},
   "outputs": [],
   "source": [
    "combined_df.to_csv('output/final_output.csv',index = False)"
   ]
  }
 ],
 "metadata": {
  "kernelspec": {
   "display_name": "Python 3 (ipykernel)",
   "language": "python",
   "name": "python3"
  },
  "language_info": {
   "codemirror_mode": {
    "name": "ipython",
    "version": 3
   },
   "file_extension": ".py",
   "mimetype": "text/x-python",
   "name": "python",
   "nbconvert_exporter": "python",
   "pygments_lexer": "ipython3",
   "version": "3.10.11"
  }
 },
 "nbformat": 4,
 "nbformat_minor": 2
}
